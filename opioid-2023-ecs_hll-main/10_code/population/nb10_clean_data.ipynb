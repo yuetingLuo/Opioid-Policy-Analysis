{
 "cells": [
  {
   "cell_type": "code",
   "execution_count": 1,
   "metadata": {},
   "outputs": [],
   "source": [
    "# %%\n",
    "from pathlib import Path\n",
    "import pandas as pd\n",
    "\n",
    "pd.set_option(\"mode.copy_on_write\", True)\n",
    "\n",
    "repo_root = Path(\"../..\")\n",
    "# source files\n",
    "src_folder = repo_root / \"00_source_data/population_data\"\n",
    "src09 = src_folder / \"co-est00int-tot.csv\"\n",
    "src19 = src_folder / \"co-est2020.csv\"\n",
    "\n",
    "# read into pandas dataframe\n",
    "# 09 and 19 as we only need 00-09 from the first, 10-19 from the second\n",
    "pop09 = pd.read_csv(src09, encoding=\"latin-1\")\n",
    "pop19 = pd.read_csv(src19, encoding=\"latin-1\")\n",
    "\n",
    "# output file\n",
    "out_file = repo_root / \"20_intermediate_file/population_00-19.csv\""
   ]
  },
  {
   "cell_type": "code",
   "execution_count": 2,
   "metadata": {},
   "outputs": [
    {
     "data": {
      "text/plain": [
       "Index(['SUMLEV', 'REGION', 'DIVISION', 'STATE', 'COUNTY', 'STNAME', 'CTYNAME',\n",
       "       'ESTIMATESBASE2000', 'POPESTIMATE2000', 'POPESTIMATE2001',\n",
       "       'POPESTIMATE2002', 'POPESTIMATE2003', 'POPESTIMATE2004',\n",
       "       'POPESTIMATE2005', 'POPESTIMATE2006', 'POPESTIMATE2007',\n",
       "       'POPESTIMATE2008', 'POPESTIMATE2009', 'CENSUS2010POP',\n",
       "       'POPESTIMATE2010'],\n",
       "      dtype='object')"
      ]
     },
     "execution_count": 2,
     "metadata": {},
     "output_type": "execute_result"
    }
   ],
   "source": [
    "pop09.columns"
   ]
  },
  {
   "cell_type": "code",
   "execution_count": 3,
   "metadata": {},
   "outputs": [],
   "source": [
    "def clean_pop(pop):\n",
    "    # clean rows: drop state and Alaska rows\n",
    "    pop = pop[(pop[\"SUMLEV\"] == 50) & (pop[\"STNAME\"] != \"Alaska\")]\n",
    "    pop = pop.reset_index(drop=True)\n",
    "\n",
    "    # create FIPS column (int values)\n",
    "    pop[\"FIPS\"] = pop[\"STATE\"] * 1000 + pop[\"COUNTY\"]\n",
    "    return pop"
   ]
  },
  {
   "cell_type": "code",
   "execution_count": 4,
   "metadata": {},
   "outputs": [],
   "source": [
    "# clean pop09\n",
    "pop09 = clean_pop(pop09)\n",
    "\n",
    "# drop columns no longer needed\n",
    "pop09.drop(\n",
    "    inplace=True,\n",
    "    columns=[\n",
    "        \"SUMLEV\",\n",
    "        \"REGION\",\n",
    "        \"DIVISION\",\n",
    "        \"STATE\",\n",
    "        \"COUNTY\",\n",
    "        \"ESTIMATESBASE2000\",\n",
    "        \"CENSUS2010POP\",\n",
    "        \"POPESTIMATE2010\",\n",
    "    ],\n",
    ")\n",
    "pop09.rename(inplace=True, columns=lambda c: c[-4:] if \"POP\" in c else c)"
   ]
  },
  {
   "cell_type": "code",
   "execution_count": 5,
   "metadata": {},
   "outputs": [],
   "source": [
    "# clean pop19\n",
    "pop19 = clean_pop(pop19)\n",
    "\n",
    "# drop columns no longer needed\n",
    "pop19.drop(\n",
    "    inplace=True,\n",
    "    columns=[\n",
    "        \"SUMLEV\",\n",
    "        \"REGION\",\n",
    "        \"DIVISION\",\n",
    "        \"STATE\",\n",
    "        \"COUNTY\",\n",
    "        \"ESTIMATESBASE2010\",\n",
    "        \"CENSUS2010POP\",\n",
    "        \"POPESTIMATE042020\",\n",
    "        \"POPESTIMATE2020\",\n",
    "    ],\n",
    ")\n",
    "pop19.rename(inplace=True, columns=lambda c: c[-4:] if \"POP\" in c else c)"
   ]
  },
  {
   "cell_type": "code",
   "execution_count": 6,
   "metadata": {},
   "outputs": [
    {
     "data": {
      "text/plain": [
       "{46113, 51515}"
      ]
     },
     "execution_count": 6,
     "metadata": {},
     "output_type": "execute_result"
    }
   ],
   "source": [
    "set(pop09[\"FIPS\"]) - set(pop19[\"FIPS\"])"
   ]
  },
  {
   "cell_type": "code",
   "execution_count": 7,
   "metadata": {},
   "outputs": [
    {
     "data": {
      "text/plain": [
       "{46102}"
      ]
     },
     "execution_count": 7,
     "metadata": {},
     "output_type": "execute_result"
    }
   ],
   "source": [
    "set(pop19[\"FIPS\"]) - set(pop09[\"FIPS\"])"
   ]
  },
  {
   "cell_type": "code",
   "execution_count": 8,
   "metadata": {},
   "outputs": [
    {
     "data": {
      "text/html": [
       "<div>\n",
       "<style scoped>\n",
       "    .dataframe tbody tr th:only-of-type {\n",
       "        vertical-align: middle;\n",
       "    }\n",
       "\n",
       "    .dataframe tbody tr th {\n",
       "        vertical-align: top;\n",
       "    }\n",
       "\n",
       "    .dataframe thead th {\n",
       "        text-align: right;\n",
       "    }\n",
       "</style>\n",
       "<table border=\"1\" class=\"dataframe\">\n",
       "  <thead>\n",
       "    <tr style=\"text-align: right;\">\n",
       "      <th></th>\n",
       "      <th>STNAME</th>\n",
       "      <th>CTYNAME</th>\n",
       "      <th>2000</th>\n",
       "      <th>2001</th>\n",
       "      <th>2002</th>\n",
       "      <th>2003</th>\n",
       "      <th>2004</th>\n",
       "      <th>2005</th>\n",
       "      <th>2006</th>\n",
       "      <th>2007</th>\n",
       "      <th>2008</th>\n",
       "      <th>2009</th>\n",
       "      <th>FIPS</th>\n",
       "    </tr>\n",
       "  </thead>\n",
       "  <tbody>\n",
       "    <tr>\n",
       "      <th>2388</th>\n",
       "      <td>South Dakota</td>\n",
       "      <td>Shannon County</td>\n",
       "      <td>12542</td>\n",
       "      <td>12602</td>\n",
       "      <td>12872</td>\n",
       "      <td>12993</td>\n",
       "      <td>12983</td>\n",
       "      <td>13150</td>\n",
       "      <td>13404</td>\n",
       "      <td>13345</td>\n",
       "      <td>13368</td>\n",
       "      <td>13425</td>\n",
       "      <td>46113</td>\n",
       "    </tr>\n",
       "    <tr>\n",
       "      <th>2887</th>\n",
       "      <td>Virginia</td>\n",
       "      <td>Bedford city</td>\n",
       "      <td>6425</td>\n",
       "      <td>6400</td>\n",
       "      <td>6320</td>\n",
       "      <td>6237</td>\n",
       "      <td>6198</td>\n",
       "      <td>6186</td>\n",
       "      <td>6147</td>\n",
       "      <td>6169</td>\n",
       "      <td>6150</td>\n",
       "      <td>6174</td>\n",
       "      <td>51515</td>\n",
       "    </tr>\n",
       "  </tbody>\n",
       "</table>\n",
       "</div>"
      ],
      "text/plain": [
       "            STNAME         CTYNAME   2000   2001   2002   2003   2004   2005  \\\n",
       "2388  South Dakota  Shannon County  12542  12602  12872  12993  12983  13150   \n",
       "2887      Virginia    Bedford city   6425   6400   6320   6237   6198   6186   \n",
       "\n",
       "       2006   2007   2008   2009   FIPS  \n",
       "2388  13404  13345  13368  13425  46113  \n",
       "2887   6147   6169   6150   6174  51515  "
      ]
     },
     "execution_count": 8,
     "metadata": {},
     "output_type": "execute_result"
    }
   ],
   "source": [
    "pop09[pop09[\"FIPS\"].isin([46113, 51515])]"
   ]
  },
  {
   "cell_type": "code",
   "execution_count": 9,
   "metadata": {},
   "outputs": [
    {
     "data": {
      "text/html": [
       "<div>\n",
       "<style scoped>\n",
       "    .dataframe tbody tr th:only-of-type {\n",
       "        vertical-align: middle;\n",
       "    }\n",
       "\n",
       "    .dataframe tbody tr th {\n",
       "        vertical-align: top;\n",
       "    }\n",
       "\n",
       "    .dataframe thead th {\n",
       "        text-align: right;\n",
       "    }\n",
       "</style>\n",
       "<table border=\"1\" class=\"dataframe\">\n",
       "  <thead>\n",
       "    <tr style=\"text-align: right;\">\n",
       "      <th></th>\n",
       "      <th>STNAME</th>\n",
       "      <th>CTYNAME</th>\n",
       "      <th>2010</th>\n",
       "      <th>2011</th>\n",
       "      <th>2012</th>\n",
       "      <th>2013</th>\n",
       "      <th>2014</th>\n",
       "      <th>2015</th>\n",
       "      <th>2016</th>\n",
       "      <th>2017</th>\n",
       "      <th>2018</th>\n",
       "      <th>2019</th>\n",
       "      <th>FIPS</th>\n",
       "    </tr>\n",
       "  </thead>\n",
       "  <tbody>\n",
       "    <tr>\n",
       "      <th>2383</th>\n",
       "      <td>South Dakota</td>\n",
       "      <td>Oglala Lakota County</td>\n",
       "      <td>13636</td>\n",
       "      <td>13897</td>\n",
       "      <td>14041</td>\n",
       "      <td>14130</td>\n",
       "      <td>14217</td>\n",
       "      <td>14364</td>\n",
       "      <td>14426</td>\n",
       "      <td>14392</td>\n",
       "      <td>14324</td>\n",
       "      <td>14171</td>\n",
       "      <td>46102</td>\n",
       "    </tr>\n",
       "  </tbody>\n",
       "</table>\n",
       "</div>"
      ],
      "text/plain": [
       "            STNAME               CTYNAME   2010   2011   2012   2013   2014  \\\n",
       "2383  South Dakota  Oglala Lakota County  13636  13897  14041  14130  14217   \n",
       "\n",
       "       2015   2016   2017   2018   2019   FIPS  \n",
       "2383  14364  14426  14392  14324  14171  46102  "
      ]
     },
     "execution_count": 9,
     "metadata": {},
     "output_type": "execute_result"
    }
   ],
   "source": [
    "pop19[pop19[\"FIPS\"] == 46102]"
   ]
  },
  {
   "cell_type": "code",
   "execution_count": 10,
   "metadata": {},
   "outputs": [],
   "source": [
    "pop19.loc[pop19[\"FIPS\"] == 46102, [\"CTYNAME\", \"FIPS\"]] = [\"Shannon County\", 46113]"
   ]
  },
  {
   "cell_type": "code",
   "execution_count": 11,
   "metadata": {},
   "outputs": [
    {
     "data": {
      "text/html": [
       "<div>\n",
       "<style scoped>\n",
       "    .dataframe tbody tr th:only-of-type {\n",
       "        vertical-align: middle;\n",
       "    }\n",
       "\n",
       "    .dataframe tbody tr th {\n",
       "        vertical-align: top;\n",
       "    }\n",
       "\n",
       "    .dataframe thead th {\n",
       "        text-align: right;\n",
       "    }\n",
       "</style>\n",
       "<table border=\"1\" class=\"dataframe\">\n",
       "  <thead>\n",
       "    <tr style=\"text-align: right;\">\n",
       "      <th></th>\n",
       "      <th>STNAME</th>\n",
       "      <th>CTYNAME</th>\n",
       "      <th>2010</th>\n",
       "      <th>2011</th>\n",
       "      <th>2012</th>\n",
       "      <th>2013</th>\n",
       "      <th>2014</th>\n",
       "      <th>2015</th>\n",
       "      <th>2016</th>\n",
       "      <th>2017</th>\n",
       "      <th>2018</th>\n",
       "      <th>2019</th>\n",
       "      <th>FIPS</th>\n",
       "    </tr>\n",
       "  </thead>\n",
       "  <tbody>\n",
       "    <tr>\n",
       "      <th>2383</th>\n",
       "      <td>South Dakota</td>\n",
       "      <td>Shannon County</td>\n",
       "      <td>13636</td>\n",
       "      <td>13897</td>\n",
       "      <td>14041</td>\n",
       "      <td>14130</td>\n",
       "      <td>14217</td>\n",
       "      <td>14364</td>\n",
       "      <td>14426</td>\n",
       "      <td>14392</td>\n",
       "      <td>14324</td>\n",
       "      <td>14171</td>\n",
       "      <td>46113</td>\n",
       "    </tr>\n",
       "  </tbody>\n",
       "</table>\n",
       "</div>"
      ],
      "text/plain": [
       "            STNAME         CTYNAME   2010   2011   2012   2013   2014   2015  \\\n",
       "2383  South Dakota  Shannon County  13636  13897  14041  14130  14217  14364   \n",
       "\n",
       "       2016   2017   2018   2019   FIPS  \n",
       "2383  14426  14392  14324  14171  46113  "
      ]
     },
     "execution_count": 11,
     "metadata": {},
     "output_type": "execute_result"
    }
   ],
   "source": [
    "pop19[pop19[\"FIPS\"] == 46113]"
   ]
  },
  {
   "cell_type": "code",
   "execution_count": 12,
   "metadata": {},
   "outputs": [],
   "source": [
    "id_vars = [\"STNAME\", \"CTYNAME\", \"FIPS\"]\n",
    "pop09 = pop09.melt(id_vars=id_vars, var_name=\"Year\", value_name=\"Population\")\n",
    "pop19 = pop19.melt(id_vars=id_vars, var_name=\"Year\", value_name=\"Population\")"
   ]
  },
  {
   "cell_type": "code",
   "execution_count": 13,
   "metadata": {},
   "outputs": [
    {
     "data": {
      "text/html": [
       "<div>\n",
       "<style scoped>\n",
       "    .dataframe tbody tr th:only-of-type {\n",
       "        vertical-align: middle;\n",
       "    }\n",
       "\n",
       "    .dataframe tbody tr th {\n",
       "        vertical-align: top;\n",
       "    }\n",
       "\n",
       "    .dataframe thead th {\n",
       "        text-align: right;\n",
       "    }\n",
       "</style>\n",
       "<table border=\"1\" class=\"dataframe\">\n",
       "  <thead>\n",
       "    <tr style=\"text-align: right;\">\n",
       "      <th></th>\n",
       "      <th>STNAME</th>\n",
       "      <th>CTYNAME</th>\n",
       "      <th>FIPS</th>\n",
       "      <th>Year</th>\n",
       "      <th>Population</th>\n",
       "    </tr>\n",
       "  </thead>\n",
       "  <tbody>\n",
       "    <tr>\n",
       "      <th>0</th>\n",
       "      <td>Alabama</td>\n",
       "      <td>Autauga County</td>\n",
       "      <td>1001</td>\n",
       "      <td>2000</td>\n",
       "      <td>44021</td>\n",
       "    </tr>\n",
       "    <tr>\n",
       "      <th>1</th>\n",
       "      <td>Alabama</td>\n",
       "      <td>Baldwin County</td>\n",
       "      <td>1003</td>\n",
       "      <td>2000</td>\n",
       "      <td>141342</td>\n",
       "    </tr>\n",
       "    <tr>\n",
       "      <th>2</th>\n",
       "      <td>Alabama</td>\n",
       "      <td>Barbour County</td>\n",
       "      <td>1005</td>\n",
       "      <td>2000</td>\n",
       "      <td>29015</td>\n",
       "    </tr>\n",
       "    <tr>\n",
       "      <th>3</th>\n",
       "      <td>Alabama</td>\n",
       "      <td>Bibb County</td>\n",
       "      <td>1007</td>\n",
       "      <td>2000</td>\n",
       "      <td>19913</td>\n",
       "    </tr>\n",
       "    <tr>\n",
       "      <th>4</th>\n",
       "      <td>Alabama</td>\n",
       "      <td>Blount County</td>\n",
       "      <td>1009</td>\n",
       "      <td>2000</td>\n",
       "      <td>51107</td>\n",
       "    </tr>\n",
       "    <tr>\n",
       "      <th>...</th>\n",
       "      <td>...</td>\n",
       "      <td>...</td>\n",
       "      <td>...</td>\n",
       "      <td>...</td>\n",
       "      <td>...</td>\n",
       "    </tr>\n",
       "    <tr>\n",
       "      <th>31125</th>\n",
       "      <td>Wyoming</td>\n",
       "      <td>Sweetwater County</td>\n",
       "      <td>56037</td>\n",
       "      <td>2019</td>\n",
       "      <td>42917</td>\n",
       "    </tr>\n",
       "    <tr>\n",
       "      <th>31126</th>\n",
       "      <td>Wyoming</td>\n",
       "      <td>Teton County</td>\n",
       "      <td>56039</td>\n",
       "      <td>2019</td>\n",
       "      <td>23385</td>\n",
       "    </tr>\n",
       "    <tr>\n",
       "      <th>31127</th>\n",
       "      <td>Wyoming</td>\n",
       "      <td>Uinta County</td>\n",
       "      <td>56041</td>\n",
       "      <td>2019</td>\n",
       "      <td>20196</td>\n",
       "    </tr>\n",
       "    <tr>\n",
       "      <th>31128</th>\n",
       "      <td>Wyoming</td>\n",
       "      <td>Washakie County</td>\n",
       "      <td>56043</td>\n",
       "      <td>2019</td>\n",
       "      <td>7824</td>\n",
       "    </tr>\n",
       "    <tr>\n",
       "      <th>31129</th>\n",
       "      <td>Wyoming</td>\n",
       "      <td>Weston County</td>\n",
       "      <td>56045</td>\n",
       "      <td>2019</td>\n",
       "      <td>6880</td>\n",
       "    </tr>\n",
       "  </tbody>\n",
       "</table>\n",
       "<p>62270 rows × 5 columns</p>\n",
       "</div>"
      ],
      "text/plain": [
       "        STNAME            CTYNAME   FIPS  Year  Population\n",
       "0      Alabama     Autauga County   1001  2000       44021\n",
       "1      Alabama     Baldwin County   1003  2000      141342\n",
       "2      Alabama     Barbour County   1005  2000       29015\n",
       "3      Alabama        Bibb County   1007  2000       19913\n",
       "4      Alabama      Blount County   1009  2000       51107\n",
       "...        ...                ...    ...   ...         ...\n",
       "31125  Wyoming  Sweetwater County  56037  2019       42917\n",
       "31126  Wyoming       Teton County  56039  2019       23385\n",
       "31127  Wyoming       Uinta County  56041  2019       20196\n",
       "31128  Wyoming    Washakie County  56043  2019        7824\n",
       "31129  Wyoming      Weston County  56045  2019        6880\n",
       "\n",
       "[62270 rows x 5 columns]"
      ]
     },
     "execution_count": 13,
     "metadata": {},
     "output_type": "execute_result"
    }
   ],
   "source": [
    "pop_all = pd.concat([pop09, pop19])\n",
    "pop_all"
   ]
  },
  {
   "cell_type": "code",
   "execution_count": 14,
   "metadata": {},
   "outputs": [],
   "source": [
    "pop_all.to_csv(out_file, index=False)"
   ]
  }
 ],
 "metadata": {
  "kernelspec": {
   "display_name": "base",
   "language": "python",
   "name": "python3"
  },
  "language_info": {
   "codemirror_mode": {
    "name": "ipython",
    "version": 3
   },
   "file_extension": ".py",
   "mimetype": "text/x-python",
   "name": "python",
   "nbconvert_exporter": "python",
   "pygments_lexer": "ipython3",
   "version": "3.11.5"
  }
 },
 "nbformat": 4,
 "nbformat_minor": 2
}
